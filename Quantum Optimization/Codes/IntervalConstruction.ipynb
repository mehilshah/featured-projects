{
  "cells": [
    {
      "cell_type": "code",
      "execution_count": null,
      "metadata": {
        "trusted": true
      },
      "outputs": [],
      "source": "import itertools\nimport time\nimport matplotlib.pyplot as plt\nimport numpy as np\nimport sys\nimport pandas as pd\nfrom tqdm import tqdm\nfrom random import randint, choice, uniform\nfrom math import ceil\nfrom statistics import stdev, mean\nfrom qiskit import *\nfrom qiskit.visualization import plot_histogram\nfrom IPython.core.display import display, HTML\nimport json\nimport numpy as np\nimport random"
    },
    {
      "cell_type": "code",
      "execution_count": null,
      "metadata": {
        "trusted": true
      },
      "outputs": [],
      "source": "class Graph():\n    def __init__(self, N, randomize=True):\n        ''' Initialize a random graph with N vertices. '''\n        self.N = N\n        self.E = 0\n        self.adj = {n:dict() for n in range(N)}\n\n        # For storing information about each run.\n        self.currentScore = float('-inf')\n        self.currentBest = \"\"\n        self.runs = []\n\n        # Randomly generate edges\n        if randomize:\n            self.randomize()\n\n    def randomize(self):\n        ''' Randomly generate edges for this graph. '''\n\n        # Generate list of tuples for all possible directed edges.\n        all_possible_edges = set([(x,y) for x in range(self.N) for y in range(self.N) if x != y])\n\n        # Sanity check, ensuring we generated the correct number of edges.\n        e_gen = len(all_possible_edges) / 2\n        e_shd = self.N * (self.N-1) / 2\n        assert e_gen == e_shd , \"%d != %d\" % (e_gen, e_shd)\n\n        # Choose a random number of edges for this graph to have. \n        # Note, we stop at len/2 because we generated directed edges,\n        # so each edge counts twice.\n        num_edges = len(all_possible_edges)//2\n        for i in range(num_edges):\n            # Choose an edge, remove it and its directed complement from the list.\n            e = choice(list(all_possible_edges))\n            all_possible_edges.remove(e)\n            all_possible_edges.remove(e[::-1])\n\n            # Unpack tuple into vertex ints.\n            u, v = int(e[0]), int(e[1])\n\n            # Choose a random weight for each edge.\n            weight = randint(1, 100)\n\n            #weight = 1\n            self.add_edge(u, v, weight)\n\n\n    def add_edge(self, u, v, weight):\n        ''' Add an edge to the graph. '''\n        self.E += 1\n        self.adj[u][v] = weight\n\n    def get_edges(self):\n        ''' Get a list of all edges. '''\n        edges = []\n        for u in self.adj:\n            for v in self.adj[u]:\n                edges.append((u, v, self.adj[u][v]))\n        return edges\n\n    def get_score(self,bitstring):\n        ''' Score a candidate solution. '''\n        assert len(bitstring) == self.N\n\n        score = 0\n\n        # For every edge u,v in the graph, add the weight\n        # of the edge if u,v belong to different cuts\n        # given this canddiate solution.\n\n        for u in self.adj:\n            for v in self.adj[u]:\n                if bitstring[u] != bitstring[v]:\n                    score += self.adj[u][v]\n        return score\n\n    def optimal_score(self):\n        '''\n        Returns (score, solutions) holding the best possible solution to the\n        MaxCut problem with this graph.\n        '''\n\n        best = 0\n        best_val = []\n\n        # Iterate over all possible candidate bitstrings\n        # Note: the bitstrings from 0 - N/2 are symmetrically\n        # equivalent to those above\n        for i in range(ceil((2 ** self.N)/2)):\n            # Convert number to 0-padded bitstring.\n            bitstring = bin(i)[2:]\n            bitstring = (self.N - len(bitstring)) * \"0\" + bitstring\n\n            sc = self.get_score(bitstring)\n            if sc > best:\n                best = sc\n                best_val = [bitstring]\n            elif sc == best:\n                best_val.append(bitstring)\n        return best, best_val\n\n    def edges_cut(self, bitstring):\n        ''' Given a candidate solution, return the number of edges that this solution cuts. '''\n        num = 0\n        for u in self.adj:\n            for v in self.adj[u]:\n                if bitstring[u] != bitstring[v]:\n                    num += 1\n        return num\n\n    def update_score(self, bitstring):\n        ''' Scores the given bitstring and keeps track of best. '''\n        score = self.get_score(bitstring)\n        if score > self.currentScore:\n            self.currentScore = score\n            self.currentBest = bitstring\n        return score\n    \n    def clear_runs(self):\n        ''' Clear data from past runs. '''\n        self.currentScore = float('-inf')\n        self.currentBest = \"\"\n        self.runs = []\n        \n    def add_run(self, gamma, beta, expected_value):\n        ''' Save the data from each run iteration. '''\n        self.runs.append([gamma, beta, expected_value])\n        \n    def __str__(self):\n        return \"Graph with %d vertices %d edges.\\nAdjacency List: %s\" % (self.N, self.E, self.adj)"
    },
    {
      "cell_type": "code",
      "execution_count": null,
      "metadata": {
        "scrolled": false,
        "trusted": true
      },
      "outputs": [],
      "source": "count = 0\nmeanAcc = 0.0\ndef get_expectation(x,n):\n    global count\n    global meanAcc\n    g = Graph(n)\n    beta, gamma = x\n    q = QuantumRegister(g.N)\n    c = ClassicalRegister(g.N)\n    qc = QuantumCircuit(q, c)\n    for i in range(g.N):\n        qc.h(q[i])\n    for edge in g.get_edges():\n        u, v, w = edge\n        qc.cx(q[u], q[v])\n        qc.u1(gamma*w, q[v])\n        qc.cx(q[u], q[v])\n    for i in range(g.N):\n        qc.h(q[i])\n        qc.u1(-2*beta, q[i])\n        qc.h(q[i])\n    for i in range(g.N):\n        qc.measure(q[i], c[i])\n    backend = BasicAer.get_backend(\"qasm_simulator\")\n    job = execute(qc, backend, shots=8192)\n    results = job.result()\n    result_dict = results.get_counts(qc)\n    exp = 0\n    for bitstring in result_dict:\n        prob = np.float(result_dict[bitstring]) / 8192\n        score = g.update_score(bitstring)\n        exp += score * prob\n    # Calculate the expected value of the candidate bitstrings.\n    v=list(result_dict.values())\n    k=list(result_dict.keys())\n    print(g.optimal_score()[0])\n    print(exp)\n    print(float(exp/g.optimal_score()[0]))\n    meanAcc+=float(exp/g.optimal_score()[0])\n    print(\"----------\")\n    if(g.get_score(k[v.index(max(v))])==g.optimal_score()[0]):\n        count+=1\nparams = [5.711986642890533,0.8250647373064104]\nfor i in range(100):\n    n = random.randint(5,15)\n    get_expectation(params,n)\nprint(meanAcc)\nprint(\"--------------------\")\nprint(\"Correct Answer Count by Approach 1 : \" + str(count))\n    "
    },
    {
      "cell_type": "code",
      "execution_count": null,
      "metadata": {
        "trusted": true
      },
      "outputs": [],
      "source": "count = 0\nmeanAcc = 0.0\npDev = list()\nnDev = list()\ndef get_expectation(x,n,val):\n    global pDev\n    global nDev\n    global count\n    global meanAcc\n    g = Graph(n)\n    beta, gamma = x\n    q = QuantumRegister(g.N)\n    c = ClassicalRegister(g.N)\n    qc = QuantumCircuit(q, c)\n    for i in range(g.N):\n        qc.h(q[i])\n    for edge in g.get_edges():\n        u, v, w = edge\n        qc.cx(q[u], q[v])\n        qc.u1(gamma*w, q[v])\n        qc.cx(q[u], q[v])\n    for i in range(g.N):\n        qc.h(q[i])\n        qc.u1(-2*beta, q[i])\n        qc.h(q[i])\n    for i in range(g.N):\n        qc.measure(q[i], c[i])\n    backend = BasicAer.get_backend(\"qasm_simulator\")\n    job = execute(qc, backend, shots=8192)\n    results = job.result()\n    result_dict = results.get_counts(qc)\n    exp = 0\n    for bitstring in result_dict:\n        prob = np.float(result_dict[bitstring]) / 8192\n        score = g.update_score(bitstring)\n        exp += score * prob\n    # Calculate the expected value of the candidate bitstrings.\n    v=list(result_dict.values())\n    k=list(result_dict.keys())\n    print(g.optimal_score()[0])\n    print(exp*val)\n    o = (float((g.optimal_score()[0]-exp*val)/g.optimal_score()[0])*100)\n    if o>=0:\n        pDev.append(o)\n    else:\n        nDev.append(o)\n    print(o)\n    print(\"----------\")\n    if(g.get_score(k[v.index(max(v))])==g.optimal_score()[0]):\n        count+=1\nparams = [5.711986642890533,0.8250647373064104]\nfactor = 1/(0.7477343509947454)\nfor i in range(100):\n    n = random.randint(5,15)\n    get_expectation(params,n,factor)\nprint(pDev)"
    },
    {
      "cell_type": "code",
      "execution_count": null,
      "metadata": {
        "trusted": true
      },
      "outputs": [],
      "source": "global pDev\nglobal nDev\nprint(\"Accuracy Metrics of Algorithm\")\nprint(np.percentile(pDev,95))\nprint(np.percentile(nDev,5))"
    },
    {
      "cell_type": "code",
      "execution_count": null,
      "metadata": {
        "trusted": true
      },
      "outputs": [],
      "source": "count = 0\ndef get_expectation(x,n,val,a,b):\n    global count\n    global pDev\n    global nDev\n    global count\n    global meanAcc\n    g = Graph(n)\n    beta, gamma = x\n    q = QuantumRegister(g.N)\n    c = ClassicalRegister(g.N)\n    qc = QuantumCircuit(q, c)\n    for i in range(g.N):\n        qc.h(q[i])\n    for edge in g.get_edges():\n        u, v, w = edge\n        qc.cx(q[u], q[v])\n        qc.u1(gamma*w, q[v])\n        qc.cx(q[u], q[v])\n    for i in range(g.N):\n        qc.h(q[i])\n        qc.u1(-2*beta, q[i])\n        qc.h(q[i])\n    for i in range(g.N):\n        qc.measure(q[i], c[i])\n    backend = BasicAer.get_backend(\"qasm_simulator\")\n    job = execute(qc, backend, shots=8192)\n    results = job.result()\n    result_dict = results.get_counts(qc)\n    exp = 0\n    for bitstring in result_dict:\n        prob = np.float(result_dict[bitstring]) / 8192\n        score = g.update_score(bitstring)\n        exp += score * prob\n    # Calculate the expected value of the candidate bitstrings.\n    v=list(result_dict.values())\n    k=list(result_dict.keys())\n    if (exp*val*a<=g.optimal_score()[0] and g.optimal_score()[0]<=(exp*val*b)):\n        print(\"-------------\")\n        print(\"True\")\n        print(g.optimal_score()[0])\n        print(exp*val*a)\n        print(exp*val*b)\n        count+=1\n    else:\n        print(\"-------------\")\n        print(\"False\")\n        print(g.optimal_score()[0])\n        print(exp*val*a)\n        print(exp*val*b)\nparams = [5.711986642890533,0.8250647373064104]\nfactor = 1/(0.7444540376466091)\nfor i in range(100):\n    n = random.randint(10,16)\n    get_expectation(params,n,factor,0.84496882145,1.0829449852)\nprint(\"----------\")\nprint(\"Correct Predictions : \" +str(count) +\"/100\")"
    },
    {
      "cell_type": "code",
      "execution_count": 4,
      "metadata": {
        "trusted": true
      },
      "outputs": [
        {
          "name": "stdout",
          "output_type": "stream",
          "text": "Predicted Value :2225.3012496524534\nActual Value : 2392\nAccuracy : 93.03098869784505%\nPredicted Value :1939.1852067371215\nActual Value : 2081\nAccuracy : 93.18525741168291%\nPredicted Value :1870.2771802823584\nActual Value : 1974\nAccuracy : 94.74555117945077%\nPredicted Value :2647.31808024983\nActual Value : 2794\nAccuracy : 94.75011024516212%\nPredicted Value :2863.41674428031\nActual Value : 2890\nAccuracy : 99.08016416194845%\nPredicted Value :2103.5599752223566\nActual Value : 2172\nAccuracy : 96.84898596788013%\nPredicted Value :2231.672278410493\nActual Value : 2329\nAccuracy : 95.82105102664204%\nPredicted Value :2134.286058802657\nActual Value : 2218\nAccuracy : 96.22570147892954%\nPredicted Value :1770.628026140567\nActual Value : 1774\nAccuracy : 99.80992255583806%\nPredicted Value :2489.4822327537145\nActual Value : 2554\nAccuracy : 97.47385406240072%\nPredicted Value :2078.046072858875\nActual Value : 2166\nAccuracy : 95.93933854380771%\nPredicted Value :1350.4480809746215\nActual Value : 1496\nAccuracy : 90.2705936480362%\nPredicted Value :3980.3790853151795\nActual Value : 3981\nAccuracy : 99.98440304735442%\nPredicted Value :1871.0242706224474\nActual Value : 1961\nAccuracy : 95.4117425100687%\nPredicted Value :2134.9111414371855\nActual Value : 2224\nAccuracy : 95.99420599987346%\nPredicted Value :2072.3896391703915\nActual Value : 2133\nAccuracy : 97.15844534319699%\nPredicted Value :3254.7136593811447\nActual Value : 3385\nAccuracy : 96.15106822396291%\nPredicted Value :1358.5297751086491\nActual Value : 1449\nAccuracy : 93.75636819245335%\nPredicted Value :1875.8585438782707\nActual Value : 2013\nAccuracy : 93.18721032678941%\nPredicted Value :1290.4476701132269\nActual Value : 1472\nAccuracy : 87.66628193703987%\nPredicted Value :2127.290549174357\nActual Value : 2230\nAccuracy : 95.39419503024021%\nPredicted Value :3435.0177298337535\nActual Value : 3492\nAccuracy : 98.3682053216997%\nPredicted Value :1499.932493503085\nActual Value : 1610\nAccuracy : 93.16350891323509%\nPredicted Value :3551.4920624985434\nActual Value : 3576\nAccuracy : 99.31465499157001%\nPredicted Value :3691.715623807676\nActual Value : 3755\nAccuracy : 98.31466374987153%\nPredicted Value :1731.7284793752015\nActual Value : 1886\nAccuracy : 91.82017387991525%\nPredicted Value :2705.1917057431538\nActual Value : 2731\nAccuracy : 99.05498739447651%\nPredicted Value :1857.3387971734837\nActual Value : 1892\nAccuracy : 98.16801253559639%\nPredicted Value :1665.3290577172534\nActual Value : 1770\nAccuracy : 94.08638744165273%\nPredicted Value :3479.934467966928\nActual Value : 3593\nAccuracy : 96.85317194452902%\nPredicted Value :1402.9840574010193\nActual Value : 1523\nAccuracy : 92.11976739336963%\nPredicted Value :2399.73465833678\nActual Value : 2491\nAccuracy : 96.33619664138016%\nPredicted Value :3531.8579988084484\nActual Value : 3564\nAccuracy : 99.09814811471516%\nPredicted Value :2127.617908936748\nActual Value : 2181\nAccuracy : 97.55240297738413%\nPredicted Value :3376.962822854363\nActual Value : 3408\nAccuracy : 99.08928470816792%\nPredicted Value :1947.0588408751073\nActual Value : 2066\nAccuracy : 94.24292550218331%\nPredicted Value :4278.803012826435\nActual Value : 4255\nAccuracy : 100.55941275737803%\nPredicted Value :1343.1325831962272\nActual Value : 1446\nAccuracy : 92.88607076045831%\nPredicted Value :3329.3835787125504\nActual Value : 3366\nAccuracy : 98.91216811386067%\nPredicted Value :2835.9972049176527\nActual Value : 2851\nAccuracy : 99.47377077929332%\nPredicted Value :3530.0490954155307\nActual Value : 3656\nAccuracy : 96.55495337569832%\nPredicted Value :1991.8349166103797\nActual Value : 2096\nAccuracy : 95.0302918230143%\nPredicted Value :2225.946641831064\nActual Value : 2354\nAccuracy : 94.5601801967317%\nPredicted Value :1406.2878936794516\nActual Value : 1528\nAccuracy : 92.03454801567092%\nPredicted Value :2970.072691130447\nActual Value : 3052\nAccuracy : 97.31561897544059%\nPredicted Value :2262.4409368128327\nActual Value : 2331\nAccuracy : 97.05881324808377%\nPredicted Value :1941.6865903627074\nActual Value : 2051\nAccuracy : 94.67023843796721%\nPredicted Value :1929.5148549326675\nActual Value : 2017\nAccuracy : 95.66261055689972%\nPredicted Value :1921.5962389155666\nActual Value : 2076\nAccuracy : 92.56243925412171%\nPredicted Value :2087.837529722485\nActual Value : 2153\nAccuracy : 96.97341057698492%\n----------------\nMean Accuracy 95.8744491594391 %\n"
        }
      ],
      "source": "count = 0\nans = 0\nimport random\ndef get_expectation(x,n,val): \n    global ans\n    global count\n    global pDev\n    global nDev\n    global count\n    global meanAcc\n    g = Graph(n)\n    beta, gamma = x\n    q = QuantumRegister(g.N)\n    c = ClassicalRegister(g.N)\n    qc = QuantumCircuit(q, c)\n    for i in range(g.N):\n        qc.h(q[i])\n    for edge in g.get_edges():\n        u, v, w = edge\n        qc.cx(q[u], q[v])\n        qc.u1(gamma*w, q[v])\n        qc.cx(q[u], q[v])\n    for i in range(g.N):\n        qc.h(q[i])\n        qc.u1(-2*beta, q[i])\n        qc.h(q[i])\n    for i in range(g.N):\n        qc.measure(q[i], c[i])\n    backend = BasicAer.get_backend(\"qasm_simulator\")\n    job = execute(qc, backend, shots=8192)\n    results = job.result()\n    result_dict = results.get_counts(qc)\n    exp = 0\n    for bitstring in result_dict:\n        prob = np.float(result_dict[bitstring]) / 8192\n        score = g.update_score(bitstring)\n        exp += score * prob\n    # Calculate the expected value of the candidate bitstrings.\n    v=list(result_dict.values())\n    k=list(result_dict.keys())\n    '''\n    print(g.optimal_score()[0])\n    print(exp*val*0.92427184466)\n    print(exp*val*0.92427184466/g.optimal_score()[0])\n    '''\n    if((exp*val*0.917475/g.optimal_score()[0])>1.0099999):\n        print(\"Violation\")\n    ans=ans + exp*val*0.917475 /g.optimal_score()[0]\n    print(\"Predicted Value :\" + str(exp*val*0.917475))\n    print(\"Actual Value : \" + str(g.optimal_score()[0]))\n    print(\"Accuracy : \" + str(exp*val*0.917475*100/g.optimal_score()[0])+\"%\")\nparams = [5.711986642890533,0.8250647373064104]\nfactor = 1/(0.7444540376466091)\nfor i in range(50):\n    n = random.randint(10,16)\n    get_expectation(params,n,factor)\nprint(\"----------------\")\nprint(\"Mean Accuracy \" + str(ans*2)+\" %\")"
    },
    {
      "cell_type": "code",
      "execution_count": null,
      "metadata": {
        "trusted": true
      },
      "outputs": [],
      "source": ""
    }
  ],
  "metadata": {
    "kernelspec": {
      "display_name": "Python 3",
      "language": "python",
      "name": "python3"
    },
    "language_info": {
      "codemirror_mode": {
        "name": "ipython",
        "version": 3
      },
      "file_extension": ".py",
      "mimetype": "text/x-python",
      "name": "python",
      "nbconvert_exporter": "python",
      "pygments_lexer": "ipython3",
      "version": "3.7.6"
    }
  },
  "nbformat": 4,
  "nbformat_minor": 4
}